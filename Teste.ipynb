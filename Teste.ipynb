{
 "cells": [
  {
   "cell_type": "code",
   "execution_count": 78,
   "id": "a22f3854",
   "metadata": {},
   "outputs": [
    {
     "data": {
      "text/plain": [
       "<module 'simple_teste' from 'C:\\\\Users\\\\cliente\\\\Documents\\\\Data Sciense\\\\Python Pro\\\\06 Web development - 01\\\\GitLicao6\\\\simple_teste.py'>"
      ]
     },
     "execution_count": 78,
     "metadata": {},
     "output_type": "execute_result"
    }
   ],
   "source": [
    "import pytest\n",
    "import simple_teste\n",
    "from importlib import reload\n",
    "reload(simple_teste)"
   ]
  },
  {
   "cell_type": "code",
   "execution_count": 84,
   "id": "3d616a1a",
   "metadata": {
    "scrolled": true
   },
   "outputs": [
    {
     "name": "stdout",
     "output_type": "stream",
     "text": [
      "Função: 1 p/soma, 2 p/subtração, 3 p/multiplicação, 4 p/divisão4\n",
      "Digite valor1 50\n",
      "Digite valor2 2\n"
     ]
    },
    {
     "data": {
      "text/plain": [
       "{'Divisão': 25.0}"
      ]
     },
     "execution_count": 84,
     "metadata": {},
     "output_type": "execute_result"
    }
   ],
   "source": [
    "a = int(input(\"Função: 1 p/soma, 2 p/subtração, 3 p/multiplicação, 4 p/divisão\"))\n",
    "b = int(input(\"Digite valor1 \"))\n",
    "c = int(input(\"Digite valor2 \"))\n",
    "simple_teste.math_teste(a,b,c)"
   ]
  },
  {
   "cell_type": "code",
   "execution_count": null,
   "id": "1f86dbe6",
   "metadata": {},
   "outputs": [],
   "source": []
  }
 ],
 "metadata": {
  "kernelspec": {
   "display_name": "Python 3 (ipykernel)",
   "language": "python",
   "name": "python3"
  },
  "language_info": {
   "codemirror_mode": {
    "name": "ipython",
    "version": 3
   },
   "file_extension": ".py",
   "mimetype": "text/x-python",
   "name": "python",
   "nbconvert_exporter": "python",
   "pygments_lexer": "ipython3",
   "version": "3.11.4"
  }
 },
 "nbformat": 4,
 "nbformat_minor": 5
}
